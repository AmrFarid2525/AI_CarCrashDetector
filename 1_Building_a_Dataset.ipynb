{
  "nbformat": 4,
  "nbformat_minor": 0,
  "metadata": {
    "colab": {
      "name": "1_Building_a_Dataset.ipynb",
      "version": "0.3.2",
      "provenance": [],
      "collapsed_sections": []
    },
    "kernelspec": {
      "name": "python3",
      "display_name": "Python 3"
    }
  },
  "cells": [
    {
      "cell_type": "markdown",
      "metadata": {
        "id": "view-in-github",
        "colab_type": "text"
      },
      "source": [
        "[View in Colaboratory](https://colab.research.google.com/github/Giffy/CarCrashDetector/blob/master/1_Building_a_Dataset.ipynb)"
      ]
    },
    {
      "metadata": {
        "id": "QLytiSIZC1Cm",
        "colab_type": "text"
      },
      "cell_type": "markdown",
      "source": [
        "#Building a Dataset\n",
        "To build a Dataset is the first challenge, sometimes there are huge datasets ready to be downloaded ( https://www.kaggle.com , in public organizations http://governobert.gencat.cat/en/dades_obertes/ , etc). Unfortunatelly, there was not any dataset available. Where could we get thousands of videos recorded with dshboard camera? Right, in www.youtube.com\n",
        "\n",
        "Youtube is the largest repository of videos with many examples of both car crashes (lots of compilations) and non-crashes. Fist challenge is to have consistent data. Main rules in the dataset creation were:\n",
        "- location of the camera: should be a dashboard camera or recorded from similar location\n",
        "- crashes between cars or car and truck (no motorbikes, trains, ...)\n",
        "- light conditions: records during the day\n",
        "- video quality at least 640 width or above\n",
        "- removed any cover with titles\n",
        "- car crash accidents type\n",
        "\n",
        "First task was to download the candidate videos in order to process the images and homogenize the data.\n",
        "We used OpenCV library to extract the frames, and scikit-image to modify and resize them. Frames are converted to 640 pixels width and from colors to grayscale."
      ]
    },
    {
      "metadata": {
        "id": "XcYa3PpLELOW",
        "colab_type": "text"
      },
      "cell_type": "markdown",
      "source": [
        "### **INPUT required** : a video with mp4 format stored in Google Drive folder  CarCrashDetection/Sources"
      ]
    },
    {
      "metadata": {
        "id": "z1cwXZWXfJ3y",
        "colab_type": "text"
      },
      "cell_type": "markdown",
      "source": [
        "# Index\n",
        "<ol>\n",
        "    <li><a href=\"#env_setup\">Environment setup </a>\n",
        "    <li><a href=\"#drive_setup\">Connection to Google drive</a>\n",
        "    <li><a href=\"#variables\">Constants and variables</a>\n",
        "    <li><a href=\"#video_frame\">Transform videos to frames</a>"
      ]
    },
    {
      "metadata": {
        "id": "E9_XGk6Gfeu-",
        "colab_type": "text"
      },
      "cell_type": "markdown",
      "source": [
        "<a id=\"env_setup\"> </a>\n",
        "## 1. Environment setup and library import"
      ]
    },
    {
      "metadata": {
        "id": "wLdz8E-BZP3C",
        "colab_type": "code",
        "colab": {}
      },
      "cell_type": "code",
      "source": [
        "!pip install --upgrade pip > /dev/null\n",
        "!pip install scikit-image > /dev/null"
      ],
      "execution_count": 0,
      "outputs": []
    },
    {
      "metadata": {
        "id": "A7Vu1eSYey5e",
        "colab_type": "code",
        "colab": {}
      },
      "cell_type": "code",
      "source": [
        "import cv2\n",
        "from skimage.color import rgb2gray\n",
        "from skimage.transform import resize\n",
        "import matplotlib.pyplot as plt\n",
        "import math"
      ],
      "execution_count": 0,
      "outputs": []
    },
    {
      "metadata": {
        "id": "NCfhpvFj9MVS",
        "colab_type": "text"
      },
      "cell_type": "markdown",
      "source": [
        "<a id=\"drive_setup\"> </a>\n",
        "## 2. Link Goggle Drive with Colab\n",
        "\n",
        "Run the code and follow the link to get an authentification key, copy it and paste in the box that will appear in jupyter notebook. After fist key the script will ask for a second authentification key, follow the process as above.\n",
        "\n",
        "Source : https://medium.com/deep-learning-turkey/google-colab-free-gpu-tutorial-e113627b9f5d "
      ]
    },
    {
      "metadata": {
        "id": "8PDFEgqA9KuM",
        "colab_type": "code",
        "colab": {}
      },
      "cell_type": "code",
      "source": [
        "# Check is Link to Drive is OK\n",
        "google = !if [ -d 'mydrive/' ]; then echo \"1\" ; else echo \"0\"; fi\n",
        "if (google[0] is '0' ):\n",
        "  from google.colab import drive\n",
        "  drive.mount('/content/mydrive')\n",
        "!if [ -d 'mydrive/' ]; then echo \"Connection to Google drive successful\" ; else echo \"Error to connect to Google drive\"; fi"
      ],
      "execution_count": 0,
      "outputs": []
    },
    {
      "metadata": {
        "id": "cxAIW3nO_awu",
        "colab_type": "text"
      },
      "cell_type": "markdown",
      "source": [
        "<a id=\"variables\"> </a>\n",
        "## 3. Constants and variables"
      ]
    },
    {
      "metadata": {
        "id": "xwVJaYVnW9bd",
        "colab_type": "code",
        "colab": {}
      },
      "cell_type": "code",
      "source": [
        "INPUT_VIDEOS_PATH = 'mydrive/CarCrashDetection/Sources'              # Path to folder with videos \n",
        "OUTPUT_FRAMES_PATH = 'mydrive/CarCrashDetection/Sources/frames'      # Location of extracted images\n",
        "\n",
        "frame_name = 'frame'                                                 # Frame name       \n",
        "one_frame_each = 4                                                   # Extract one frame each 70\n",
        "\n",
        "\n",
        "\n",
        "!if [ -d {OUTPUT_FRAMES_PATH} ]; then echo \"Output to be stored in \"{OUTPUT_FRAMES_PATH} ; else mkdir {OUTPUT_FRAMES_PATH} && echo \"Output directory created\"; fi\n",
        "\n",
        "files = !ls {INPUT_VIDEOS_PATH}/*.mp4                                # Video file names in INPUT VIDEOS PATH\n",
        "videofile = files[0]                                                 # Refactor of variable 'files' to convert the first video of list "
      ],
      "execution_count": 0,
      "outputs": []
    },
    {
      "metadata": {
        "id": "ol7vkvGijGUZ",
        "colab_type": "text"
      },
      "cell_type": "markdown",
      "source": [
        "<a id=\"video_frame\"> </a>\n",
        "## 4. Transform videos to frames"
      ]
    },
    {
      "metadata": {
        "id": "TEyu5N0u7GWi",
        "colab_type": "code",
        "colab": {
          "base_uri": "https://localhost:8080/",
          "height": 36
        },
        "outputId": "11c1e5b0-8076-40d9-b4ac-927daa5e20ea"
      },
      "cell_type": "code",
      "source": [
        "count = 0\n",
        "success = True\n",
        "\n",
        "vidcap = cv2.VideoCapture(videofile)\n",
        "\n",
        "while success:\n",
        "    if (count%one_frame_each == 0):                                   # checks frame number and keeps one_frame_each          \n",
        "        success,image = vidcap.read()                                 # reads next frame           \n",
        "        image_gray = rgb2gray(image)                                  # grayscale image\n",
        "        if image.shape[1]>640:                                        # if image width > 640, resize it\n",
        "          tmp = resize(image_gray, (math.floor(640 / image_gray.shape[1] * image_gray.shape[0]), 640),mode='constant')\n",
        "        plt.imsave(\"%s/%s%d.png\" % (OUTPUT_FRAMES_PATH,frame_name, count), tmp, cmap= plt.cm.gray) # saves images to frame folder\n",
        "        print ('*', end=\"\")\n",
        "    else:\n",
        "        success,image = vidcap.read()                                 # reads next frame\n",
        "    count += 1                                                        # loops counter"
      ],
      "execution_count": 6,
      "outputs": [
        {
          "output_type": "stream",
          "text": [
            "*******"
          ],
          "name": "stdout"
        }
      ]
    }
  ]
}

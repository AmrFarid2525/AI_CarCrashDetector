{
  "nbformat": 4,
  "nbformat_minor": 0,
  "metadata": {
    "colab": {
      "name": "4_Prediction.ipynb",
      "version": "0.3.2",
      "provenance": [],
      "collapsed_sections": [
        "z1cwXZWXfJ3y",
        "D10eOV4wPnZP",
        "NCfhpvFj9MVS",
        "6pjCRDpOhGLk",
        "JfzW_sWmp39e"
      ]
    },
    "kernelspec": {
      "name": "python3",
      "display_name": "Python 3"
    }
  },
  "cells": [
    {
      "cell_type": "markdown",
      "metadata": {
        "id": "view-in-github",
        "colab_type": "text"
      },
      "source": [
        "[View in Colaboratory](https://colab.research.google.com/github/Giffy/CarCrashDetector/blob/master/4_Prediction.ipynb)"
      ]
    },
    {
      "metadata": {
        "id": "dZ4hXXSQPEFh",
        "colab_type": "text"
      },
      "cell_type": "markdown",
      "source": [
        "# Index\n",
        "<ol>\n",
        "    <li><a href=\"#system _setup\">System setup</a>\n",
        "    <li><a href=\"#load_train\">Load pre-trained ResNet</a>\n",
        "    <li><a href=\"#pred_batch\">Prediction batch processing</a>\n",
        "    "
      ]
    },
    {
      "metadata": {
        "id": "z1cwXZWXfJ3y",
        "colab_type": "text"
      },
      "cell_type": "markdown",
      "source": [
        "<br>\n",
        "<a id=\"system_setup\"> </a>\n",
        "# 1. System setup"
      ]
    },
    {
      "metadata": {
        "id": "NCfhpvFj9MVS",
        "colab_type": "text"
      },
      "cell_type": "markdown",
      "source": [
        "## 1.1 Link Goggle Drive with Colab \n",
        "\n",
        "Run the code and follow the link to get an authentification key, copy it and paste in the box that will appear in jupyter notebook.  After fist key the script will ask for a second authentification key, follow the process as above. \n",
        "\n",
        "Source : https://medium.com/deep-learning-turkey/google-colab-free-gpu-tutorial-e113627b9f5d \n"
      ]
    },
    {
      "metadata": {
        "id": "DkHETrDoHZaE",
        "colab_type": "code",
        "colab": {}
      },
      "cell_type": "code",
      "source": [
        "# Check is Link to Drive is OK\n",
        "google = !if [ -d 'mydrive/' ]; then echo \"1\" ; else echo \"0\"; fi\n",
        "if (google[0] is '0' ):\n",
        "  !apt-get install -y -qq software-properties-common python-software-properties module-init-tools > /dev/null\n",
        "  !add-apt-repository -y ppa:alessandro-strada/ppa 2>&1 > /dev/null\n",
        "  !apt-get update -qq 2>&1 > /dev/null\n",
        "  !apt-get -y install -qq google-drive-ocamlfuse fuse > /dev/null\n",
        "  from google.colab import auth\n",
        "  auth.authenticate_user()\n",
        "  from oauth2client.client import GoogleCredentials\n",
        "  creds = GoogleCredentials.get_application_default()\n",
        "  import getpass\n",
        "  !google-drive-ocamlfuse -headless -id={creds.client_id} -secret={creds.client_secret} < /dev/null 2>&1 | grep URL\n",
        "  vcode = getpass.getpass()\n",
        "  !echo {vcode} | google-drive-ocamlfuse -headless -id={creds.client_id} -secret={creds.client_secret}\n",
        "  # Makes folder 'mydrive' in colab and mounts a link to 'Google drive'\n",
        "  !mkdir -p mydrive\n",
        "  !google-drive-ocamlfuse mydrive\n",
        "!if [ -d 'mydrive/' ]; then echo \"Connection to Google drive successful\" ; else echo \"Error to connect to Google drive\"; fi"
      ],
      "execution_count": 0,
      "outputs": []
    },
    {
      "metadata": {
        "id": "6pjCRDpOhGLk",
        "colab_type": "text"
      },
      "cell_type": "markdown",
      "source": [
        "## 1.2 Install and update python libraries\n",
        "Set up of Python, installing the required modules\n",
        "<ol>\n",
        "   <li>Updated python package manager (pip)\n",
        "   <li>Torchvision\n",
        "   <li>Pillow 4.0.0 (required for fastai library)\n",
        "   <li>Image\n",
        "   <li>Fast ai"
      ]
    },
    {
      "metadata": {
        "id": "Tayh7BBEfYGK",
        "colab_type": "code",
        "colab": {}
      },
      "cell_type": "code",
      "source": [
        "!pip install --upgrade pip  > /dev/null\n",
        "!pip install http://download.pytorch.org/whl/cu75/torch-0.3.0.post4-cp36-cp36m-linux_x86_64.whl  && pip install torchvision > /dev/null\n",
        "!pip install Pillow==4.0.0 > /dev/null\n",
        "!pip install PIL > /dev/null\n",
        "!pip install image > /dev/null\n",
        "!pip install fastai > /dev/null\n",
        "!apt update && apt install -y libsm6 libxext6 > /dev/null"
      ],
      "execution_count": 0,
      "outputs": []
    },
    {
      "metadata": {
        "id": "JfzW_sWmp39e",
        "colab_type": "text"
      },
      "cell_type": "markdown",
      "source": [
        "<br>\n",
        "<a id=\"load_train\"> </a>\n",
        "# 2. Load pre-trained ResNet Model"
      ]
    },
    {
      "metadata": {
        "id": "kzOtCDUzX6Aa",
        "colab_type": "text"
      },
      "cell_type": "markdown",
      "source": [
        "## 2.1 Libraries setup\n",
        "Import the fastai libraries"
      ]
    },
    {
      "metadata": {
        "id": "f_V04IVy2uk4",
        "colab_type": "code",
        "colab": {}
      },
      "cell_type": "code",
      "source": [
        "# Put these at the top of every notebook, to get automatic reloading and inline plotting\n",
        "%reload_ext autoreload\n",
        "%autoreload 2\n",
        "%matplotlib inline"
      ],
      "execution_count": 0,
      "outputs": []
    },
    {
      "metadata": {
        "id": "Dt7jG7DZ26oG",
        "colab_type": "code",
        "colab": {}
      },
      "cell_type": "code",
      "source": [
        "# This file contains all the main external libs we'll use\n",
        "from fastai.imports import *\n",
        "from fastai.transforms import *\n",
        "from fastai.conv_learner import *\n",
        "from fastai.model import *\n",
        "from fastai.dataset import *\n",
        "from fastai.sgdr import *\n",
        "from fastai.plots import *\n",
        "import sys"
      ],
      "execution_count": 0,
      "outputs": []
    },
    {
      "metadata": {
        "id": "ePZgf0VW2weC",
        "colab_type": "text"
      },
      "cell_type": "markdown",
      "source": [
        "## 2.2 Load model\n"
      ]
    },
    {
      "metadata": {
        "id": "vsXfAxV0pb7n",
        "colab_type": "code",
        "colab": {}
      },
      "cell_type": "code",
      "source": [
        "###   Add here the name of the model to test\n",
        "model_name = \"carCrash180614-1043_sz299_bs60_ep5\""
      ],
      "execution_count": 0,
      "outputs": []
    },
    {
      "metadata": {
        "id": "drF22TFNYPH3",
        "colab_type": "code",
        "colab": {}
      },
      "cell_type": "code",
      "source": [
        "arch=resnet34\n",
        "sz = 299                                                                        # Type same size used during model creation. If you donwloaded the model, a new precomputed activations will be generated.\n",
        "batch_size = 60                                                                 # Type same batch_size used during model creation. If you donwloaded the model, a new precomputed activations will be generated.\n",
        "PATH = \"mydrive/CarCrashDetection/Dataset/\"\n",
        "data = ImageClassifierData.from_paths(PATH, tfms=tfms_from_model(arch, sz), bs=batch_size)     \n",
        "learn = ConvLearner.pretrained(arch, data, precompute=True)\n",
        "\n",
        "\n",
        "print ( \"Loading model:\", model_name,\".h5\\n\")\n",
        "learn.load(model_name)\n",
        "print ( \"Model loaded\")"
      ],
      "execution_count": 0,
      "outputs": []
    },
    {
      "metadata": {
        "id": "N2Grx7aa7E8n",
        "colab_type": "text"
      },
      "cell_type": "markdown",
      "source": [
        "## 2.3 Load image to test"
      ]
    },
    {
      "metadata": {
        "id": "iAzhf7-I6zv9",
        "colab_type": "code",
        "colab": {}
      },
      "cell_type": "code",
      "source": [
        "PATH = \"mydrive/CarCrashDetection/Dataset/train/no_accident/\"\n",
        "fn = \"4frame60.png\"\n",
        "\n",
        "PATH = \"mydrive/CarCrashDetection/Dataset/train/accident/\"\n",
        "fn = \"frame0020.png\"\n",
        "\n",
        "img = open_image(PATH+fn)\n",
        "\n",
        "print(img.shape)\n",
        "plt.imshow(img);"
      ],
      "execution_count": 0,
      "outputs": []
    },
    {
      "metadata": {
        "id": "v4F-nRQF7aUN",
        "colab_type": "text"
      },
      "cell_type": "markdown",
      "source": [
        "## 2.4 Prediction Test"
      ]
    },
    {
      "metadata": {
        "id": "_jsgMZBK7VaO",
        "colab_type": "code",
        "colab": {}
      },
      "cell_type": "code",
      "source": [
        "trn_tfms, val_tfms = tfms_from_model(arch,sz)      # get transformations\n",
        "im = val_tfms (img)\n",
        "\n",
        "learn.precompute=False                             # We'll pass in a raw image, not activations\n",
        "preds = learn.predict_array(im[None])\n",
        "np.argmax(preds)                                   # preds are log probabilities of classes"
      ],
      "execution_count": 0,
      "outputs": []
    },
    {
      "metadata": {
        "id": "RgF4WQC9qtvo",
        "colab_type": "text"
      },
      "cell_type": "markdown",
      "source": [
        "<br>\n",
        "<a id=\"pred_batch\"> </a>\n",
        "# 3. Prediction Batch processing Test"
      ]
    },
    {
      "metadata": {
        "id": "b9rERh-K-NbP",
        "colab_type": "text"
      },
      "cell_type": "markdown",
      "source": [
        "## 3.1 Define test bench folder to check"
      ]
    },
    {
      "metadata": {
        "id": "F5eJ8byF-Fli",
        "colab_type": "code",
        "colab": {}
      },
      "cell_type": "code",
      "source": [
        "#PATH = \"mydrive/CarCrashDetection/video_to_check/frames1-noaccident/\"\n",
        "#PATH = \"mydrive/CarCrashDetection/video_to_check/frames4-noaccident/\"\n",
        "#PATH = \"mydrive/CarCrashDetection/video_to_check/frames5-noaccident/\"\n",
        "PATH = \"mydrive/CarCrashDetection/video_to_check/frames9-noaccident/\"\n",
        "#PATH = \"mydrive/CarCrashDetection/video_to_check/frames10-noaccident/\"\n",
        "\n",
        "#PATH = \"mydrive/CarCrashDetection/video_to_check/frames2-accident/\"\n",
        "#PATH = \"mydrive/CarCrashDetection/video_to_check/frames3-accident/\"\n",
        "#PATH = \"mydrive/CarCrashDetection/video_to_check/frames6-accident/\"\n",
        "#PATH = \"mydrive/CarCrashDetection/video_to_check/frames7-accident/\"\n",
        "#PATH = \"mydrive/CarCrashDetection/video_to_check/frames8-accident/\"\n",
        "\n",
        "\n",
        "filenames_to_check = !ls -tr {PATH} \n",
        "number_images = len(filenames_to_check)\n",
        "print(f\"Number of images to check: {number_images}\")"
      ],
      "execution_count": 0,
      "outputs": []
    },
    {
      "metadata": {
        "id": "46sPQmAWi4vr",
        "colab_type": "text"
      },
      "cell_type": "markdown",
      "source": [
        "## 3.2 Prediction"
      ]
    },
    {
      "metadata": {
        "id": "Jr9vBFxh3apG",
        "colab_type": "code",
        "colab": {}
      },
      "cell_type": "code",
      "source": [
        "count = 0\n",
        "list = []\n",
        "for i in range(number_images):\n",
        "  fn = filenames_to_check[i]\n",
        "  img = open_image(PATH+fn)\n",
        "  trn_tfms, val_tfms = tfms_from_model(arch,sz)      \n",
        "  im = val_tfms (img)\n",
        "\n",
        "  learn.precompute=False                             \n",
        "  preds = learn.predict_array(im[None])\n",
        "  p = np.argmax(preds)       \n",
        "  list.append(p)\n",
        "  count += 1 \n",
        "  if (count%5):    \n",
        "    b = round((count*100 / number_images),0)\n",
        "    sys.stdout.write('\\r'+ str(b) + \"%\")\n",
        "\n",
        "print (\"\")\n",
        "print (\"Imagenes procesadas :\", count)\n",
        "print (\"Tentative number of no accidents :\", list.count(1))\n",
        "print (\"Tentative number of accidents :\", list.count(0))"
      ],
      "execution_count": 0,
      "outputs": []
    },
    {
      "metadata": {
        "id": "mwqkc1wCjOTx",
        "colab_type": "text"
      },
      "cell_type": "markdown",
      "source": [
        "## 3.3 Prediction normalization"
      ]
    },
    {
      "metadata": {
        "id": "DU8kxVDmjkxu",
        "colab_type": "code",
        "colab": {}
      },
      "cell_type": "code",
      "source": [
        "# normalization setup\n",
        "seg_lenght = 5      # Segment lenght to analize\n",
        "steps = 4           # number of steps between length\n",
        "positivos = 2       # number of '0's in the lenght"
      ],
      "execution_count": 0,
      "outputs": []
    },
    {
      "metadata": {
        "id": "Jr3Lh-19en3f",
        "colab_type": "code",
        "colab": {}
      },
      "cell_type": "code",
      "source": [
        "list_normalized = []\n",
        "\n",
        "\n",
        "for i in range(0, (len(list)-(steps+1)), steps):                 # iterates the prediction list according the steps\n",
        "  norm = 0\n",
        "  for j in range (seg_lenght):\n",
        "    posicion = i+j\n",
        "    norm = norm + list[posicion]\n",
        "\n",
        "  if (norm>positivos):\n",
        "    list_normalized.append(1)\n",
        "  else:\n",
        "    list_normalized.append(0)"
      ],
      "execution_count": 0,
      "outputs": []
    },
    {
      "metadata": {
        "id": "dGvzIVnK-WFM",
        "colab_type": "code",
        "colab": {}
      },
      "cell_type": "code",
      "source": [
        "print (list)\n",
        "print (list_normalized)"
      ],
      "execution_count": 0,
      "outputs": []
    },
    {
      "metadata": {
        "id": "f3xkcXZ4sOAR",
        "colab_type": "text"
      },
      "cell_type": "markdown",
      "source": [
        "## 3.4 Resultado"
      ]
    },
    {
      "metadata": {
        "id": "l_6SsE4Ufrl7",
        "colab_type": "code",
        "colab": {}
      },
      "cell_type": "code",
      "source": [
        "count = 0\n",
        "accidente = 0\n",
        "for i in range( len (list_normalized)):\n",
        "  if (count == 3):\n",
        "    accidente = 1\n",
        "    break\n",
        "  else:\n",
        "    if (list_normalized[i] == 1):\n",
        "      count == 0\n",
        "    else:\n",
        "      count +=1\n",
        "if (accidente == 0):\n",
        "  print (\"No accident in video\")\n",
        "else:\n",
        "  print (\"Warning, accident\")    "
      ],
      "execution_count": 0,
      "outputs": []
    },
    {
      "metadata": {
        "id": "Eqps0y5Gv7Eq",
        "colab_type": "code",
        "colab": {}
      },
      "cell_type": "code",
      "source": [
        ""
      ],
      "execution_count": 0,
      "outputs": []
    }
  ]
}
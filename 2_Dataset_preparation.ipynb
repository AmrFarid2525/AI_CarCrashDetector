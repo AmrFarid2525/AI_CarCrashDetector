{
  "nbformat": 4,
  "nbformat_minor": 0,
  "metadata": {
    "colab": {
      "name": "2_Dataset_preparation.ipynb",
      "version": "0.3.2",
      "provenance": [],
      "collapsed_sections": [
        "hFC5eO7Tx2Km",
        "NCfhpvFj9MVS",
        "cxAIW3nO_awu",
        "QdlJmhlfX9PX",
        "tHR9BZyvYMgG"
      ]
    },
    "kernelspec": {
      "name": "python3",
      "display_name": "Python 3"
    }
  },
  "cells": [
    {
      "cell_type": "markdown",
      "metadata": {
        "id": "view-in-github",
        "colab_type": "text"
      },
      "source": [
        "[View in Colaboratory](https://colab.research.google.com/github/Giffy/CarCrashDetector/blob/master/2_Dataset_preparation.ipynb)"
      ]
    },
    {
      "metadata": {
        "id": "BQrxFUAJ_g-A",
        "colab_type": "text"
      },
      "cell_type": "markdown",
      "source": [
        "# Dataset preparation\n",
        "\n",
        "Once images are processed, starts the tough task which is visualize and clasify the images.\n",
        "Images should be stored manually in two folders accidents and no-accidents\n",
        "\n",
        "When images are allocated in the right folder, it is time to run the next module '2_Dataset_preparation' to:\n",
        "\n",
        "Split the supervised images in two groups, one for train and another for valid which each contains images of accidents and no-accidents. The module splits them randomly and does data augmentation of accident images (which are fewer than no-accident). \n",
        "\n",
        "It splits in train (80% of supervised image set) and valid (20% of supervised image set).\n",
        "\n",
        "\n",
        "\n"
      ]
    },
    {
      "metadata": {
        "id": "diQZHa8riQ4Y",
        "colab_type": "text"
      },
      "cell_type": "markdown",
      "source": [
        "# Index\n",
        "<ol>\n",
        "    <li><a href=\"#env_setup\">Environment setup </a>\n",
        "    <li><a href=\"#drive_setup\">Connection to Google drive</a>\n",
        "    <li><a href=\"#folders_setup\">Folders setup</a>\n",
        "    <li><a href=\"#data_augmentation\">Environment setup and Dataset overview</a>\n",
        "    <li><a href=\"#split_in_train_valid\">Split dataset in train and valid randomly</a>\n",
        "    \n",
        "    "
      ]
    },
    {
      "metadata": {
        "id": "hFC5eO7Tx2Km",
        "colab_type": "text"
      },
      "cell_type": "markdown",
      "source": [
        "<a id=\"env_setup\"> </a>\n",
        "## 1. Environment setup and library import"
      ]
    },
    {
      "metadata": {
        "id": "dDCkjdq0X763",
        "colab_type": "code",
        "colab": {}
      },
      "cell_type": "code",
      "source": [
        "import random                           # Generates random numbers\n",
        "import os                               # Create directories, list files\n",
        "from shutil import copyfile             # Copy files from Source to Destination\n",
        "import cv2                              # To flip images in data augmentation\n",
        "import matplotlib.pyplot as plt         # To save the images"
      ],
      "execution_count": 0,
      "outputs": []
    },
    {
      "metadata": {
        "id": "NCfhpvFj9MVS",
        "colab_type": "text"
      },
      "cell_type": "markdown",
      "source": [
        "<a id=\"drive_setup\"> </a>\n",
        "## 2. Link Goggle Drive with Colab\n",
        "\n",
        "Run the code and follow the link to get an authentification key, copy it and paste in the box that will appear in jupyter notebook. After fist key the script will ask for a second authentification key, follow the process as above.\n",
        "\n",
        "Source : https://medium.com/deep-learning-turkey/google-colab-free-gpu-tutorial-e113627b9f5d "
      ]
    },
    {
      "metadata": {
        "id": "8PDFEgqA9KuM",
        "colab_type": "code",
        "colab": {}
      },
      "cell_type": "code",
      "source": [
        "# Check is Link to Drive is OK\n",
        "google = !if [ -d 'mydrive/' ]; then echo \"1\" ; else echo \"0\"; fi\n",
        "if (google[0] is '0' ):\n",
        "  !apt-get install -y -qq software-properties-common python-software-properties module-init-tools > /dev/null\n",
        "  !add-apt-repository -y ppa:alessandro-strada/ppa 2>&1 > /dev/null\n",
        "  !apt-get update -qq 2>&1 > /dev/null\n",
        "  !apt-get -y install -qq google-drive-ocamlfuse fuse > /dev/null\n",
        "  from google.colab import auth\n",
        "  auth.authenticate_user()\n",
        "  from oauth2client.client import GoogleCredentials\n",
        "  creds = GoogleCredentials.get_application_default()\n",
        "  import getpass\n",
        "  !google-drive-ocamlfuse -headless -id={creds.client_id} -secret={creds.client_secret} < /dev/null 2>&1 | grep URL\n",
        "  vcode = getpass.getpass()\n",
        "  !echo {vcode} | google-drive-ocamlfuse -headless -id={creds.client_id} -secret={creds.client_secret}\n",
        "  # Makes folder 'mydrive' in colab and mounts a link to 'Google drive'\n",
        "  !mkdir -p mydrive\n",
        "  !google-drive-ocamlfuse mydrive\n",
        "!if [ -d 'mydrive/' ]; then echo \"Connection to Google drive successful\" ; else echo \"Error to connect to Google drive\"; fi"
      ],
      "execution_count": 0,
      "outputs": []
    },
    {
      "metadata": {
        "id": "cxAIW3nO_awu",
        "colab_type": "text"
      },
      "cell_type": "markdown",
      "source": [
        "<a id=\"folders_setup\"> </a>\n",
        "## 3. Folder checking and creation\n",
        "\n",
        "Checks if folder layout exist, deletes content, creates if necessary.\n",
        "    - Train -- accident\n",
        "            -- no_accident\n",
        "    - Valid -- accident\n",
        "            -- no_accident\n",
        "    - tmp\n",
        "\n"
      ]
    },
    {
      "metadata": {
        "id": "BL4cOzh0ix9F",
        "colab_type": "code",
        "colab": {}
      },
      "cell_type": "code",
      "source": [
        "!if [ -d 'mydrive/CarCrashDetection/Dataset/train' ]; then echo \"Directory train already exist\" ; else mkdir 'mydrive/CarCrashDetection/Dataset/train' && echo \"Directory train created\"; fi\n",
        "!if [ -d 'mydrive/CarCrashDetection/Dataset/valid' ]; then echo \"Directory valid already exist\" ; else mkdir 'mydrive/CarCrashDetection/Dataset/valid' && echo \"Directory valid created\"; fi\n",
        "!if [ -d 'mydrive/CarCrashDetection/Dataset/tmp' ]; then echo \"Directory tmp already exist\" ; else mkdir 'mydrive/CarCrashDetection/Dataset/tmp' && echo \"Directory tmp created\"; fi\n",
        "print (\"\")\n",
        "print (os.listdir(\"mydrive/CarCrashDetection/Dataset/\"))\n",
        "print (\"\")\n",
        "!if [ -d 'mydrive/CarCrashDetection/Dataset/train/accident' ]; then echo \"Directory accident in train already exist\" ; else mkdir 'mydrive/CarCrashDetection/Dataset/train/accident' && echo \"Directory accident in train created\"; fi\n",
        "!if [ -d 'mydrive/CarCrashDetection/Dataset/train/no_accident' ]; then echo \"Directory no_accident in train already exist\" ; else mkdir 'mydrive/CarCrashDetection/Dataset/train/no_accident' && echo \"Directory no_accident in train created\"; fi\n",
        "!if [ -d 'mydrive/CarCrashDetection/Dataset/valid/accident' ]; then echo \"Directory accident in valid already exist\" ; else mkdir 'mydrive/CarCrashDetection/Dataset/valid/accident' && echo \"Directory accident in valid created\"; fi\n",
        "!if [ -d 'mydrive/CarCrashDetection/Dataset/valid/no_accident' ]; then echo \"Directory no_accident in valid already exist\" ; else mkdir 'mydrive/CarCrashDetection/Dataset/valid/no_accident' && echo \"Directory no_accident in valid created\"; fi\n",
        "print (\"\")\n",
        "print (\"Deleting folder content train accident\")\n",
        "!rm mydrive/CarCrashDetection/Dataset/train/accident/* > /dev/null\n",
        "print (\"Deleting folder content train no_accident\")\n",
        "!rm mydrive/CarCrashDetection/Dataset/train/no_accident/* > /dev/null\n",
        "print (\"Deleting folder content valid accident\")\n",
        "!rm mydrive/CarCrashDetection/Dataset/valid/accident/* > /dev/null\n",
        "print (\"Deleting folder content valid no_accident\")\n",
        "!rm mydrive/CarCrashDetection/Dataset/valid/no_accident/* > /dev/null"
      ],
      "execution_count": 0,
      "outputs": []
    },
    {
      "metadata": {
        "id": "yLjBG9kikDZ_",
        "colab_type": "text"
      },
      "cell_type": "markdown",
      "source": [
        "```\n",
        "./dataset    \n",
        "│\n",
        "└─── models\n",
        "│\n",
        "└─── train      (80% of supervised image set)\n",
        "│   └─  accident\n",
        "│   │    └─ frame001.jpg\n",
        "│   │       frame002.jpg\n",
        "│   └─  no_accident\n",
        "│        └─ frame001.jpg\n",
        "│           frame002.jpg\n",
        "│\n",
        "└─── valid     (20% of supervised image set)\n",
        "     └─  accident\n",
        "     │    └─ frame001.jpg\n",
        "     │       frame002.jpg\n",
        "     └─  no_accident\n",
        "          └─ frame001.jpg\n",
        "             frame002.jpg\n",
        "\n",
        "```"
      ]
    },
    {
      "metadata": {
        "id": "L02xTndvkLPv",
        "colab_type": "text"
      },
      "cell_type": "markdown",
      "source": [
        "From CarCrashDetection/Sources/Frames , copy images 80 % to train (accident & no_accident) and 20% to valid (accident & no_accident)"
      ]
    },
    {
      "metadata": {
        "id": "6avtSXGjkHy_",
        "colab_type": "code",
        "colab": {}
      },
      "cell_type": "code",
      "source": [
        "PATH = 'mydrive/CarCrashDetection/Sources/frames'\n",
        "filenames_accident = !ls {PATH}/accident\n",
        "\n",
        "print (os.listdir('mydrive/CarCrashDetection/Sources/frames'))\n",
        "num_accident = len(filenames_accident)\n",
        "filenames_no_accident = !ls {PATH}/no_accident\n",
        "num_no_accident = len(filenames_no_accident)\n",
        "\n",
        "print (\"Total images with accident \", num_accident)\n",
        "print (\"Total images without accident \", num_no_accident)"
      ],
      "execution_count": 0,
      "outputs": []
    },
    {
      "metadata": {
        "id": "QdlJmhlfX9PX",
        "colab_type": "text"
      },
      "cell_type": "markdown",
      "source": [
        "<a id=\"data_augmentation\"> </a>\n",
        "## 4.  Data augmentation of accident images set\n",
        "\n",
        "Simply mirror images"
      ]
    },
    {
      "metadata": {
        "id": "91Up3WxeYmmC",
        "colab_type": "code",
        "colab": {}
      },
      "cell_type": "code",
      "source": [
        "data_augmentation = 0\n",
        "\n",
        "if (data_augmentation == 1):\n",
        " \n",
        "  PATH_accident = PATH + \"/accident/\"\n",
        "  remove = PATH_accident+\"_flip_*\"  \n",
        "  print(\"Deleting old mirrored images\")\n",
        "  !rm {remove}\n",
        "\n",
        "  print(\"Creating new mirrored images\")\n",
        "  for fn in filenames_accident:\n",
        "    img = mpimg.imread(PATH_accident+fn)\n",
        "    rimg= cv2.flip(img,1)\n",
        "    #plt.imshow(img);\n",
        "    plt.imsave(\"%s%s%s.png\" % (PATH_accident,\"_flip_\", fn[:-4]), rimg) # saves images to frame folder\n",
        " \n",
        "\n",
        "\n",
        "PATH = 'mydrive/CarCrashDetection/Sources/frames'\n",
        "filenames_accident = !ls {PATH}/accident\n",
        "\n",
        "print (os.listdir('mydrive/CarCrashDetection/Sources/frames'))\n",
        "num_accident = len(filenames_accident)\n",
        "filenames_no_accident = !ls {PATH}/no_accident\n",
        "num_no_accident = len(filenames_no_accident)\n",
        "\n",
        "print (\"Total images with accident \", num_accident)\n",
        "print (\"Total images without accident \", num_no_accident)"
      ],
      "execution_count": 0,
      "outputs": []
    },
    {
      "metadata": {
        "id": "tHR9BZyvYMgG",
        "colab_type": "text"
      },
      "cell_type": "markdown",
      "source": [
        "<a id=\"split_in_train_valid\"> </a>\n",
        "## 5.  Split dataset in train and valid randomly"
      ]
    },
    {
      "metadata": {
        "id": "Lq8-tjSBlpJK",
        "colab_type": "text"
      },
      "cell_type": "markdown",
      "source": [
        "Starting the split and copy of random images"
      ]
    },
    {
      "metadata": {
        "id": "ziJGJ3MdkmAX",
        "colab_type": "code",
        "colab": {}
      },
      "cell_type": "code",
      "source": [
        "percentage_of_train = 0.8    # 80% = 0.8\n",
        "\n",
        "\n",
        "def split_dataset_in_train_and_valid( filenames, percentage):\n",
        "  \n",
        "  total_images = len(filenames)\n",
        "  total_train = int(total_images * percentage_of_train)\n",
        "  \n",
        "  set_train = []\n",
        "  for image in range(total_train):  \n",
        "    num_image = random.randrange(total_images)\n",
        "    if num_image not in set_train:\n",
        "      set_train.append(num_image)\n",
        "\n",
        "  set_valid = []\n",
        "  for i in range(total_images):\n",
        "    if i not in set_train:\n",
        "      set_valid.append(i)\n",
        "    \n",
        "  images_train =[]\n",
        "  for i in set_train:    \n",
        "    images_train.append(filenames[i])\n",
        "   \n",
        "  images_valid =[]\n",
        "  for i in set_valid:    \n",
        "    images_valid.append(filenames[i])\n",
        "    \n",
        "  return (images_train, images_valid)"
      ],
      "execution_count": 0,
      "outputs": []
    },
    {
      "metadata": {
        "id": "AiSfEEpw5Lzd",
        "colab_type": "code",
        "colab": {}
      },
      "cell_type": "code",
      "source": [
        "accident_train_valid = (split_dataset_in_train_and_valid (filenames_accident , percentage_of_train))\n",
        "no_accident_train_valid = (split_dataset_in_train_and_valid (filenames_no_accident , percentage_of_train))"
      ],
      "execution_count": 0,
      "outputs": []
    },
    {
      "metadata": {
        "id": "jCTNS3w35Qvq",
        "colab_type": "code",
        "colab": {}
      },
      "cell_type": "code",
      "source": [
        "## Copy files from sources to train\n",
        "PATH2 = \"mydrive/CarCrashDetection/Dataset/\"\n",
        "\n",
        "## copy accident train set\n",
        "print (\"Copying accident train\")\n",
        "lenght = len (accident_train_valid[0])\n",
        "for i in range(lenght):\n",
        "  src = (\"mydrive/CarCrashDetection/Sources/frames/accident/\" + accident_train_valid[0][i])\n",
        "  dst = (\"mydrive/CarCrashDetection/Dataset/train/accident/\" + accident_train_valid[0][i])\n",
        "  copyfile(src, dst)\n",
        "  \n",
        "train_accident = !ls {PATH2}train/accident\n",
        "print(f\"Number of train images with accident copied: {len(train_accident)}\")\n",
        "\n",
        "## copy accident valid set\n",
        "print (\"Copying accident valid\")\n",
        "lenght = len (accident_train_valid[1])\n",
        "for i in range(lenght):\n",
        "  src = (\"mydrive/CarCrashDetection/Sources/frames/accident/\" + accident_train_valid[1][i])\n",
        "  dst = (\"mydrive/CarCrashDetection/Dataset/valid/accident/\" + accident_train_valid[1][i])\n",
        "  copyfile(src, dst)\n",
        "  \n",
        "valid_accident = !ls {PATH2}valid/accident \n",
        "print(f\"Number of valid images with accident copied: {len(valid_accident)}\")\n",
        "\n",
        "## copy no_accident train set\n",
        "print (\"Copying no accident train\")\n",
        "lenght = len (no_accident_train_valid[0])\n",
        "for i in range(lenght):\n",
        "  src = (\"mydrive/CarCrashDetection/Sources/frames/no_accident/\" + no_accident_train_valid[0][i])\n",
        "  dst = (\"mydrive/CarCrashDetection/Dataset/train/no_accident/\" + no_accident_train_valid[0][i])\n",
        "  copyfile(src, dst)\n",
        "\n",
        "train_no_accident = !ls {PATH2}train/no_accident\n",
        "print(f\"Number of train images with no_accident copied: {len(train_no_accident)}\")\n",
        "\n",
        "## copy accident valid set\n",
        "print (\"Copying no accident valid\")\n",
        "lenght = len (no_accident_train_valid[1])\n",
        "for i in range(lenght):\n",
        "  src = (\"mydrive/CarCrashDetection/Sources/frames/no_accident/\" + no_accident_train_valid[1][i])\n",
        "  dst = (\"mydrive/CarCrashDetection/Dataset/valid/no_accident/\" + no_accident_train_valid[1][i])\n",
        "  copyfile(src, dst) \n",
        "  \n",
        "valid_no_accident = !ls {PATH2}valid/no_accident\n",
        "print(f\"Number of valid images with no_accident copied: {len(valid_no_accident)}\")"
      ],
      "execution_count": 0,
      "outputs": []
    },
    {
      "metadata": {
        "id": "lzsCDo4zbZqG",
        "colab_type": "code",
        "colab": {}
      },
      "cell_type": "code",
      "source": [
        "PATH2 = \"mydrive/CarCrashDetection/Dataset/\"\n",
        "\n",
        "train_accident = !ls {PATH2}train/accident\n",
        "print(f\"Number of train images with accident copied: {len(train_accident)}\")\n",
        "valid_accident = !ls {PATH2}valid/accident \n",
        "print(f\"Number of valid images with accident copied: {len(valid_accident)}\")\n",
        "train_no_accident = !ls {PATH2}train/no_accident\n",
        "print(f\"Number of train images with no_accident copied: {len(train_no_accident)}\")\n",
        "valid_no_accident = !ls {PATH2}valid/no_accident\n",
        "print(f\"Number of valid images with no_accident copied: {len(valid_no_accident)}\")"
      ],
      "execution_count": 0,
      "outputs": []
    }
  ]
}